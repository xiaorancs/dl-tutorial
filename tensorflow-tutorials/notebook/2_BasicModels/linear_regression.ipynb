{
 "cells": [
  {
   "cell_type": "markdown",
   "metadata": {},
   "source": [
    "## Linear Regression Example\n",
    "A linear regression learning algorithm example using TensorFlow library.\n",
    "\n",
    "+ Author: xiaoran\n",
    "+ Time: 2019-02-14 PM\n",
    "+ Copy: https://github.com/aymericdamien/TensorFlow-Examples/"
   ]
  },
  {
   "cell_type": "code",
   "execution_count": 1,
   "metadata": {},
   "outputs": [],
   "source": [
    "import tensorflow as tf\n",
    "import numpy as np\n",
    "import matplotlib.pyplot as plt"
   ]
  },
  {
   "cell_type": "code",
   "execution_count": 2,
   "metadata": {},
   "outputs": [],
   "source": [
    "# 设置超参数\n",
    "learning_rate = 0.01\n",
    "training_epochs = 1000\n",
    "display_step = 50"
   ]
  },
  {
   "cell_type": "code",
   "execution_count": 3,
   "metadata": {},
   "outputs": [],
   "source": [
    "# 训练数据\n",
    "train_X = np.asarray([3.3,4.4,5.5,6.71,6.93,4.168,9.779,6.182,7.59,2.167,\n",
    "                         7.042,10.791,5.313,7.997,5.654,9.27,3.1])\n",
    "train_Y = np.asarray([1.7,2.76,2.09,3.19,1.694,1.573,3.366,2.596,2.53,1.221,\n",
    "                         2.827,3.465,1.65,2.904,2.42,2.94,1.3])\n",
    "n_samples = train_X.shape[0]"
   ]
  },
  {
   "cell_type": "code",
   "execution_count": 7,
   "metadata": {},
   "outputs": [],
   "source": [
    "# 设置图中输入数据的占位符\n",
    "X = tf.placeholder(\"float\")\n",
    "Y = tf.placeholder(\"float\")\n",
    "\n",
    "# 随机初始化变量W 和 b\n",
    "W = tf.Variable(np.random.randn(), name=\"weight\")\n",
    "b = tf.Variable(np.random.randn(), name=\"bais\")\n",
    "\n",
    "# 构造线性回归模型 y = w * x + b\n",
    "pred_y = tf.add(tf.multiply(W, X), b)\n",
    "\n",
    "# 计算损失函数和优化方式\n",
    "# 使用最小平方误差\n",
    "loss = tf.reduce_sum(tf.pow(pred_y - Y, 2)) / (2 * n_samples)\n",
    "\n",
    "# 使用随机梯度下降进行优化\n",
    "optimizer = tf.train.GradientDescentOptimizer(learning_rate).minimize(loss)\n"
   ]
  },
  {
   "cell_type": "code",
   "execution_count": 8,
   "metadata": {},
   "outputs": [],
   "source": [
    "# 初始化随机变量\n",
    "init = tf.global_variables_initializer()"
   ]
  },
  {
   "cell_type": "code",
   "execution_count": 14,
   "metadata": {},
   "outputs": [
    {
     "name": "stdout",
     "output_type": "stream",
     "text": [
      "Eopch: 0050 loss= 0.08148976 W= 0.28728527 b= 0.5303151\n",
      "Eopch: 0100 loss= 0.08096736 W= 0.28504357 b= 0.54644203\n",
      "Eopch: 0150 loss= 0.08050547 W= 0.28293508 b= 0.56160975\n",
      "Eopch: 0200 loss= 0.08009703 W= 0.28095207 b= 0.57587546\n",
      "Eopch: 0250 loss= 0.07973587 W= 0.2790869 b= 0.58929425\n",
      "Eopch: 0300 loss= 0.07941653 W= 0.27733254 b= 0.601915\n",
      "Eopch: 0350 loss= 0.07913423 W= 0.2756825 b= 0.6137843\n",
      "Eopch: 0400 loss= 0.078884706 W= 0.2741311 b= 0.6249455\n",
      "Eopch: 0450 loss= 0.07866411 W= 0.27267185 b= 0.6354432\n",
      "Eopch: 0500 loss= 0.078469075 W= 0.27129942 b= 0.645316\n",
      "Eopch: 0550 loss= 0.07829663 W= 0.27000853 b= 0.65460247\n",
      "Eopch: 0600 loss= 0.078144245 W= 0.26879454 b= 0.66333646\n",
      "Eopch: 0650 loss= 0.0780095 W= 0.26765248 b= 0.6715518\n",
      "Eopch: 0700 loss= 0.07789045 W= 0.26657847 b= 0.67927825\n",
      "Eopch: 0750 loss= 0.077785194 W= 0.26556846 b= 0.6865446\n",
      "Eopch: 0800 loss= 0.07769217 W= 0.26461834 b= 0.6933796\n",
      "Eopch: 0850 loss= 0.077609986 W= 0.26372474 b= 0.69980747\n",
      "Eopch: 0900 loss= 0.07753732 W= 0.2628844 b= 0.7058536\n",
      "Eopch: 0950 loss= 0.077473134 W= 0.2620939 b= 0.7115401\n",
      "Eopch: 1000 loss= 0.077416405 W= 0.26135048 b= 0.7168889\n",
      "Training Finish!\n",
      "Training loss= 0.077416405 W= 0.26135048 b= 0.7168889\n",
      "Plot linear\n"
     ]
    },
    {
     "data": {
      "image/png": "[encoded data removed]",
      "text/plain": [
       "<Figure size 432x288 with 1 Axes>"
      ]
     },
     "metadata": {
      "needs_background": "light"
     },
     "output_type": "display_data"
    }
   ],
   "source": [
    "# satrt graph\n",
    "with tf.Session() as sess:\n",
    "    sess.run(init)\n",
    "    \n",
    "    # start training\n",
    "    for epoch in range(training_epochs):\n",
    "        for (x, y) in zip(train_X, train_Y):\n",
    "            sess.run(optimizer, feed_dict={X:x, Y:y})\n",
    "        # display log \n",
    "        if (epoch+1) % display_step == 0:\n",
    "            print(\"Eopch:\",\"%04d\" % (epoch+1), \"loss=\", sess.run(loss, feed_dict={X: train_X, Y: train_Y}),\"W=\", sess.run(W), \"b=\", sess.run(b))\n",
    "    print(\"Training Finish!\")\n",
    "    print(\"Training loss=\", sess.run(loss, feed_dict={X: train_X, Y: train_Y}),\"W=\", sess.run(W), \"b=\", sess.run(b))\n",
    "    print(\"Plot linear\")\n",
    "    plt.plot(train_X, train_Y, 'ro', label='Original data')\n",
    "    plt.plot(train_X, sess.run(W) * train_X + sess.run(b), label='Fitted line')\n",
    "    plt.legend()\n",
    "    plt.show()"
   ]
  },
  {
   "cell_type": "code",
   "execution_count": null,
   "metadata": {},
   "outputs": [],
   "source": []
  }
 ],
 "metadata": {
  "kernelspec": {
   "display_name": "Python 3",
   "language": "python",
   "name": "python3"
  },
  "language_info": {
   "codemirror_mode": {
    "name": "ipython",
    "version": 3
   },
   "file_extension": ".py",
   "mimetype": "text/x-python",
   "name": "python",
   "nbconvert_exporter": "python",
   "pygments_lexer": "ipython3",
   "version": "3.6.8"
  }
 },
 "nbformat": 4,
 "nbformat_minor": 2
}
