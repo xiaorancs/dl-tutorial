{
 "cells": [
  {
   "cell_type": "markdown",
   "metadata": {},
   "source": [
    "## pytorch 前馈神经网络\n",
    "pytorch教程，实现前馈神经网络."
   ]
  },
  {
   "cell_type": "code",
   "execution_count": 1,
   "metadata": {},
   "outputs": [],
   "source": [
    "import torch\n",
    "import torchvision\n",
    "import torch.nn as nn\n",
    "import torchvision.transforms as transforms"
   ]
  },
  {
   "cell_type": "code",
   "execution_count": 3,
   "metadata": {},
   "outputs": [],
   "source": [
    "# Device configuration\n",
    "device = torch.device('cuda' if torch.cuda.is_available() else 'cpu')"
   ]
  },
  {
   "cell_type": "code",
   "execution_count": 6,
   "metadata": {},
   "outputs": [],
   "source": [
    "# set Hyper-parameters\n",
    "input_size = 784\n",
    "hidden1_size = 500\n",
    "hidden2_size = 600\n",
    "hidden_size = [hidden1_size, hidden2_size]\n",
    "\n",
    "num_classes = 10\n",
    "num_epochs = 5\n",
    "batch_size = 100\n",
    "learning_rate = 0.001\n"
   ]
  },
  {
   "cell_type": "code",
   "execution_count": 5,
   "metadata": {},
   "outputs": [],
   "source": [
    "# MNIST dataset\n",
    "train_dataset = torchvision.datasets.MNIST(root=\"../data/\", \n",
    "                                           train=True, \n",
    "                                           transform=transforms.ToTensor(), \n",
    "                                           download=False)\n",
    "\n",
    "test_dataset = torchvision.datasets.MNIST(root=\"../data/\",\n",
    "                                          train=False, \n",
    "                                          transform=transforms.ToTensor())\n",
    "\n",
    "# Data loader \n",
    "train_loader = torch.utils.data.DataLoader(dataset=train_dataset, batch_size=batch_size, shuffle=True)\n",
    "test_loader = torch.utils.data.DataLoader(dataset=test_dataset, batch_size=batch_size, shuffle=True)"
   ]
  },
  {
   "cell_type": "code",
   "execution_count": 20,
   "metadata": {},
   "outputs": [],
   "source": [
    "# Fully connected neural network with one hidden layer\n",
    "class NeuralNet(nn.Module):\n",
    "    def __init__(self, input_size, hidden_size, num_classes):\n",
    "        super(NeuralNet, self).__init__()\n",
    "        self.fc1 = nn.Linear(input_size, hidden_size[0])\n",
    "        self.relu1 = nn.ReLU()\n",
    "\n",
    "#         self.fc2 = nn.Linear(hidden_size[0], hidden_size[1])\n",
    "#         self.relu2 = nn.ReLU()\n",
    "        \n",
    "        self.fc2 = nn.Linear(hidden_size[0], num_classes)\n",
    "    \n",
    "    def forward(self, x):\n",
    "        out1 = self.fc1(x)\n",
    "        out1 = self.relu1(out1)\n",
    "\n",
    "#         out2 = self.fc2(out1)\n",
    "#         out2 = self.relu2(out2)\n",
    "\n",
    "        out3 = self.fc2(out1)\n",
    "        return out3\n",
    "model = NeuralNet(input_size, hidden_size, num_classes).to(device)"
   ]
  },
  {
   "cell_type": "code",
   "execution_count": 21,
   "metadata": {},
   "outputs": [],
   "source": [
    "# Loss and optimizer\n",
    "loss_fun = nn.CrossEntropyLoss()\n",
    "optimizer = torch.optim.SGD(model.parameters(), lr=learning_rate)"
   ]
  },
  {
   "cell_type": "code",
   "execution_count": 22,
   "metadata": {},
   "outputs": [
    {
     "name": "stdout",
     "output_type": "stream",
     "text": [
      "Epoch [1/5], Step [100/600], Loss: 2.2899\n",
      "Epoch [1/5], Step [200/600], Loss: 2.2577\n",
      "Epoch [1/5], Step [300/600], Loss: 2.2725\n",
      "Epoch [1/5], Step [400/600], Loss: 2.2120\n",
      "Epoch [1/5], Step [500/600], Loss: 2.1936\n",
      "Epoch [1/5], Step [600/600], Loss: 2.1642\n",
      "Epoch [2/5], Step [100/600], Loss: 2.1426\n",
      "Epoch [2/5], Step [200/600], Loss: 2.1081\n",
      "Epoch [2/5], Step [300/600], Loss: 2.1277\n",
      "Epoch [2/5], Step [400/600], Loss: 2.0909\n",
      "Epoch [2/5], Step [500/600], Loss: 2.0668\n",
      "Epoch [2/5], Step [600/600], Loss: 2.0475\n",
      "Epoch [3/5], Step [100/600], Loss: 2.0134\n",
      "Epoch [3/5], Step [200/600], Loss: 1.9454\n",
      "Epoch [3/5], Step [300/600], Loss: 1.9637\n",
      "Epoch [3/5], Step [400/600], Loss: 1.9138\n",
      "Epoch [3/5], Step [500/600], Loss: 1.8210\n",
      "Epoch [3/5], Step [600/600], Loss: 1.8319\n",
      "Epoch [4/5], Step [100/600], Loss: 1.8002\n",
      "Epoch [4/5], Step [200/600], Loss: 1.7866\n",
      "Epoch [4/5], Step [300/600], Loss: 1.7049\n",
      "Epoch [4/5], Step [400/600], Loss: 1.7244\n",
      "Epoch [4/5], Step [500/600], Loss: 1.7456\n",
      "Epoch [4/5], Step [600/600], Loss: 1.6085\n",
      "Epoch [5/5], Step [100/600], Loss: 1.5476\n",
      "Epoch [5/5], Step [200/600], Loss: 1.5398\n",
      "Epoch [5/5], Step [300/600], Loss: 1.4943\n",
      "Epoch [5/5], Step [400/600], Loss: 1.4297\n",
      "Epoch [5/5], Step [500/600], Loss: 1.4568\n",
      "Epoch [5/5], Step [600/600], Loss: 1.4483\n"
     ]
    }
   ],
   "source": [
    "# Train the model\n",
    "total_step = len(train_loader)\n",
    "\n",
    "for epoch in range(num_epochs):\n",
    "    for i, (images, labels) in enumerate(train_loader):\n",
    "        # Move tensors to the configured device\n",
    "        images = images.reshape(-1, 28*28).to(device)\n",
    "        labels = labels.to(device)\n",
    "        \n",
    "        # Forward pass\n",
    "        outputs = model(images)\n",
    "        loss = loss_fun(outputs, labels)\n",
    "        \n",
    "        # Bcakward and optimize\n",
    "        optimizer.zero_grad()\n",
    "        loss.backward()\n",
    "        optimizer.step()\n",
    "        \n",
    "        if (i+1) % 100 == 0:\n",
    "            print(\"Epoch [{}/{}], Step [{}/{}], Loss: {:.4f}\"\n",
    "                  .format(epoch+1, num_epochs, i+1, total_step, loss.item()))"
   ]
  },
  {
   "cell_type": "code",
   "execution_count": 29,
   "metadata": {},
   "outputs": [
    {
     "name": "stdout",
     "output_type": "stream",
     "text": [
      "Accuracy of the network on the 10000 test images: 78 %\n"
     ]
    }
   ],
   "source": [
    "# Test the model\n",
    "# In test phase, we don't need to copute gradients (for memory efficiency)\n",
    "with torch.no_grad():\n",
    "    corrent = 0\n",
    "    total = 0\n",
    "    for images, labels in test_loader:\n",
    "        images = images.reshape(-1, 28*28).to(device)\n",
    "        lables = labels.to(device)\n",
    "        outputs = model(images)\n",
    "#         print(outputs)\n",
    "        _, predicted = torch.max(outputs.data, 1)\n",
    "#         print(predicted)\n",
    "        total += labels.size(0)\n",
    "        corrent += (predicted == labels).sum()\n",
    "    print(\"Accuracy of the network on the 10000 test images: {} %\".format(100 * corrent / total))"
   ]
  },
  {
   "cell_type": "code",
   "execution_count": null,
   "metadata": {},
   "outputs": [],
   "source": []
  }
 ],
 "metadata": {
  "kernelspec": {
   "display_name": "Python 3",
   "language": "python",
   "name": "python3"
  },
  "language_info": {
   "codemirror_mode": {
    "name": "ipython",
    "version": 3
   },
   "file_extension": ".py",
   "mimetype": "text/x-python",
   "name": "python",
   "nbconvert_exporter": "python",
   "pygments_lexer": "ipython3",
   "version": "3.6.5"
  }
 },
 "nbformat": 4,
 "nbformat_minor": 2
}
