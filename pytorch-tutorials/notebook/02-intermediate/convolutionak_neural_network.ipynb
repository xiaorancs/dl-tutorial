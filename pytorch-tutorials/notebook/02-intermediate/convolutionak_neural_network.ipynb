{
 "cells": [
  {
   "cell_type": "markdown",
   "metadata": {},
   "source": [
    "## 卷积神经网络\n",
    "+ Author: xiaoran\n",
    "+ Time: 2019-02-16 PM.\n",
    "+ Copy: https://github.com/yunjey/pytorch-tutorial/blob/master/tutorials/02-intermediate/convolutional_neural_network"
   ]
  },
  {
   "cell_type": "code",
   "execution_count": 1,
   "metadata": {},
   "outputs": [],
   "source": [
    "import torch\n",
    "import torch.nn as nn\n",
    "import torchvision\n",
    "import torchvision.transforms as transforms"
   ]
  },
  {
   "cell_type": "code",
   "execution_count": 2,
   "metadata": {},
   "outputs": [],
   "source": [
    "# Device configuration\n",
    "device = torch.device('cuda:0' if torch.cuda.is_available() else 'cpu')"
   ]
  },
  {
   "cell_type": "code",
   "execution_count": 3,
   "metadata": {},
   "outputs": [],
   "source": [
    "# 设置超参数\n",
    "num_epochs = 5\n",
    "num_classes = 10\n",
    "batch_size = 64\n",
    "learning_rate = 0.001\n",
    "\n",
    "# MNIST dataset\n",
    "train_dataset = torchvision.datasets.MNIST(root='../../data/', train=True, \n",
    "                                           transform=transforms.ToTensor(),\n",
    "                                           download=True)\n",
    "test_dataset = torchvision.datasets.MNIST(root='../../data/', train=False,transform=transforms.ToTensor())"
   ]
  },
  {
   "cell_type": "code",
   "execution_count": 4,
   "metadata": {},
   "outputs": [],
   "source": [
    "# Data loader\n",
    "train_loader = torch.utils.data.DataLoader(dataset=train_dataset, batch_size=batch_size, shuffle=True)\n",
    "\n",
    "test_loader = torch.utils.data.DataLoader(dataset=test_dataset, batch_size=batch_size, shuffle=False)\n"
   ]
  },
  {
   "cell_type": "code",
   "execution_count": 5,
   "metadata": {},
   "outputs": [],
   "source": [
    "# Convolutional neural network(two convolutional layers)\n",
    "class ConvNet(nn.Module):\n",
    "    def __init__(self, num_classes=10):\n",
    "        super(ConvNet, self).__init__()\n",
    "        self.layer1 = nn.Sequential(\n",
    "            nn.Conv2d(1, 16, kernel_size=5, stride=1, padding=2),\n",
    "            nn.BatchNorm2d(16),\n",
    "            nn.ReLU(),\n",
    "            nn.MaxPool2d(kernel_size=2, stride=2))\n",
    "        \n",
    "        self.layer2 = nn.Sequential(\n",
    "            nn.Conv2d(16, 32, kernel_size=5, stride=1, padding=2),\n",
    "            nn.BatchNorm2d(32),\n",
    "            nn.ReLU(),\n",
    "            nn.MaxPool2d(kernel_size=2, stride=2))\n",
    "        \n",
    "        self.fc = nn.Linear(7*7*32, num_classes)\n",
    "    \n",
    "    \n",
    "    def forward(self, x):\n",
    "        out = self.layer1(x)\n",
    "        out = self.layer2(out)\n",
    "        out = out.reshape(out.size(0), -1)\n",
    "        out = self.fc(out)\n",
    "        return out\n"
   ]
  },
  {
   "cell_type": "code",
   "execution_count": 6,
   "metadata": {},
   "outputs": [],
   "source": [
    "model = ConvNet(num_classes).to(device)"
   ]
  },
  {
   "cell_type": "code",
   "execution_count": 7,
   "metadata": {},
   "outputs": [],
   "source": [
    "# Loss and optimizer\n",
    "criterion = nn.CrossEntropyLoss()\n",
    "optimizer = torch.optim.Adam(model.parameters(), lr=learning_rate)\n"
   ]
  },
  {
   "cell_type": "code",
   "execution_count": 8,
   "metadata": {
    "collapsed": true
   },
   "outputs": [
    {
     "name": "stdout",
     "output_type": "stream",
     "text": [
      "Epoch [1/5], Step [100/938], Loss: 0.0878\n",
      "Epoch [1/5], Step [200/938], Loss: 0.0602\n",
      "Epoch [1/5], Step [300/938], Loss: 0.0507\n",
      "Epoch [1/5], Step [400/938], Loss: 0.1825\n",
      "Epoch [1/5], Step [500/938], Loss: 0.0695\n",
      "Epoch [1/5], Step [600/938], Loss: 0.0677\n",
      "Epoch [1/5], Step [700/938], Loss: 0.2053\n",
      "Epoch [1/5], Step [800/938], Loss: 0.0319\n",
      "Epoch [1/5], Step [900/938], Loss: 0.0200\n",
      "Epoch [2/5], Step [100/938], Loss: 0.0081\n",
      "Epoch [2/5], Step [200/938], Loss: 0.1634\n",
      "Epoch [2/5], Step [300/938], Loss: 0.0807\n",
      "Epoch [2/5], Step [400/938], Loss: 0.1347\n",
      "Epoch [2/5], Step [500/938], Loss: 0.0129\n",
      "Epoch [2/5], Step [600/938], Loss: 0.0103\n",
      "Epoch [2/5], Step [700/938], Loss: 0.0198\n",
      "Epoch [2/5], Step [800/938], Loss: 0.0369\n",
      "Epoch [2/5], Step [900/938], Loss: 0.0291\n",
      "Epoch [3/5], Step [100/938], Loss: 0.0144\n",
      "Epoch [3/5], Step [200/938], Loss: 0.0082\n",
      "Epoch [3/5], Step [300/938], Loss: 0.0225\n",
      "Epoch [3/5], Step [400/938], Loss: 0.0267\n",
      "Epoch [3/5], Step [500/938], Loss: 0.0266\n",
      "Epoch [3/5], Step [600/938], Loss: 0.0053\n",
      "Epoch [3/5], Step [700/938], Loss: 0.0367\n",
      "Epoch [3/5], Step [800/938], Loss: 0.0023\n",
      "Epoch [3/5], Step [900/938], Loss: 0.0891\n",
      "Epoch [4/5], Step [100/938], Loss: 0.0181\n",
      "Epoch [4/5], Step [200/938], Loss: 0.0027\n",
      "Epoch [4/5], Step [300/938], Loss: 0.0702\n",
      "Epoch [4/5], Step [400/938], Loss: 0.0401\n",
      "Epoch [4/5], Step [500/938], Loss: 0.0064\n",
      "Epoch [4/5], Step [600/938], Loss: 0.0132\n",
      "Epoch [4/5], Step [700/938], Loss: 0.0410\n",
      "Epoch [4/5], Step [800/938], Loss: 0.0852\n",
      "Epoch [4/5], Step [900/938], Loss: 0.0098\n",
      "Epoch [5/5], Step [100/938], Loss: 0.0106\n",
      "Epoch [5/5], Step [200/938], Loss: 0.0093\n",
      "Epoch [5/5], Step [300/938], Loss: 0.0167\n",
      "Epoch [5/5], Step [400/938], Loss: 0.0048\n",
      "Epoch [5/5], Step [500/938], Loss: 0.0340\n",
      "Epoch [5/5], Step [600/938], Loss: 0.0009\n",
      "Epoch [5/5], Step [700/938], Loss: 0.0025\n",
      "Epoch [5/5], Step [800/938], Loss: 0.0014\n",
      "Epoch [5/5], Step [900/938], Loss: 0.0257\n"
     ]
    }
   ],
   "source": [
    "# Train the model\n",
    "total_step = len(train_loader)\n",
    "\n",
    "for epoch in range(num_epochs):\n",
    "    for i, (images, labels) in enumerate(train_loader):\n",
    "        images = images.to(device)\n",
    "        lables = labels.to(device)\n",
    "        \n",
    "        # Forward pass\n",
    "        outputs = model(images)\n",
    "        loss = criterion(outputs, lables)\n",
    "        \n",
    "        # Backward and optimize\n",
    "        optimizer.zero_grad()\n",
    "        loss.backward()\n",
    "        optimizer.step()\n",
    "        \n",
    "        if (i+1) % 100 == 0:\n",
    "            print ('Epoch [{}/{}], Step [{}/{}], Loss: {:.4f}'.format(epoch+1, num_epochs, i+1, total_step, loss.item()))\n"
   ]
  },
  {
   "cell_type": "code",
   "execution_count": 18,
   "metadata": {},
   "outputs": [
    {
     "name": "stdout",
     "output_type": "stream",
     "text": [
      "Test Accuracy of the model on the 10000 test iamges: 197.03423566878982%\n"
     ]
    }
   ],
   "source": [
    "# Test the model\n",
    "model.eval() \n",
    "with torch.no_grad():\n",
    "    correct = 0\n",
    "    total = 0\n",
    "    for images, labels in test_loader:\n",
    "        images = images.to(device)\n",
    "        labels = labels.to(device)\n",
    "        outputs = model(images)\n",
    "        _, predicted = torch.max(outputs.data, 1)\n",
    "        total += lables.size(0)\n",
    "        correct += (predicted == labels).sum().item()\n",
    "    print ('Test Accuracy of the model on the 10000 test iamges: {}%'.format(100 * correct / total))\n",
    "    \n",
    "torch.save(model.state_dict(), 'ConvNetModel.ckpt')"
   ]
  },
  {
   "cell_type": "code",
   "execution_count": null,
   "metadata": {},
   "outputs": [],
   "source": []
  }
 ],
 "metadata": {
  "kernelspec": {
   "display_name": "Python 3",
   "language": "python",
   "name": "python3"
  },
  "language_info": {
   "codemirror_mode": {
    "name": "ipython",
    "version": 3
   },
   "file_extension": ".py",
   "mimetype": "text/x-python",
   "name": "python",
   "nbconvert_exporter": "python",
   "pygments_lexer": "ipython3",
   "version": "3.6.8"
  }
 },
 "nbformat": 4,
 "nbformat_minor": 2
}
